{
 "cells": [
  {
   "cell_type": "markdown",
   "id": "23765c52",
   "metadata": {},
   "source": [
    "Separação do texto com marcação de início e fim de cada um"
   ]
  },
  {
   "cell_type": "code",
   "execution_count": 4,
   "id": "341a46ba",
   "metadata": {},
   "outputs": [
    {
     "name": "stdout",
     "output_type": "stream",
     "text": [
      "Extraction completed.\n"
     ]
    }
   ],
   "source": [
    "import fitz  # PyMuPDF\n",
    "import os\n",
    "\n",
    "# Path to the input PDF file\n",
    "pdf_path = \"G:/Meu Drive/1 - Projeto - Defesa/006 - Artigo - SBQ/editions/2019.pdf\"\n",
    "# Path to the output TXT file\n",
    "txt_path = \"saida2019-2.txt\"\n",
    "\n",
    "# Check if file exists\n",
    "if not os.path.exists(pdf_path):\n",
    "    raise FileNotFoundError(f\"PDF not found at path: {pdf_path}\")\n",
    "\n",
    "# Open the PDF\n",
    "doc = fitz.open(pdf_path)\n",
    "\n",
    "# Open the output file\n",
    "with open(txt_path, \"w\", encoding=\"utf-8\") as f:\n",
    "    # Iterate through the desired pages\n",
    "    for page_num in range(37, min(81, len(doc))):\n",
    "        page = doc.load_page(page_num)\n",
    "        text = page.get_text()\n",
    "\n",
    "        f.write(\"#-#\\n\")\n",
    "        f.write(\"Ano: 2019\\n\")\n",
    "        f.write(text.strip() + \"\\n\")\n",
    "        f.write(\"#---#\\n\\n\")\n",
    "\n",
    "print(\"Extraction completed.\")\n"
   ]
  },
  {
   "cell_type": "code",
   "execution_count": 1,
   "id": "b5ed706a",
   "metadata": {},
   "outputs": [
    {
     "name": "stdout",
     "output_type": "stream",
     "text": [
      "Extraction completed.\n"
     ]
    }
   ],
   "source": [
    "import fitz  # PyMuPDF\n",
    "import os\n",
    "\n",
    "# Path to the input PDF file\n",
    "pdf_path = \"G:/Meu Drive/1 - Projeto - Defesa/003 - SBQ/editions/2024.pdf\"\n",
    "# Path to the output TXT file\n",
    "txt_path = \"saida2024.txt\"\n",
    "\n",
    "# Check if file exists\n",
    "if not os.path.exists(pdf_path):\n",
    "    raise FileNotFoundError(f\"PDF not found at path: {pdf_path}\")\n",
    "\n",
    "# Open the PDF\n",
    "doc = fitz.open(pdf_path)\n",
    "\n",
    "# Open the output file\n",
    "with open(txt_path, \"w\", encoding=\"utf-8\") as f:\n",
    "    # Iterate through the desired pages\n",
    "    for page_num in range(6, min(860, len(doc))):\n",
    "        page = doc.load_page(page_num)\n",
    "        text = page.get_text()\n",
    "\n",
    "        f.write(\"#-#\\n\")\n",
    "        f.write(\"Ano: 2024\\n\")\n",
    "        f.write(text.strip() + \"\\n\")\n",
    "        f.write(\"#---#\\n\\n\")\n",
    "\n",
    "print(\"Extraction completed.\")\n"
   ]
  },
  {
   "cell_type": "code",
   "execution_count": 1,
   "id": "1925a166",
   "metadata": {},
   "outputs": [
    {
     "name": "stdout",
     "output_type": "stream",
     "text": [
      "Files 'saida2019.txt' and 'saida2024.txt' successfully merged into 'allTexts.txt'.\n"
     ]
    }
   ],
   "source": [
    "# -*- coding: utf-8 -*-\n",
    "import os\n",
    "\n",
    "# Paths to the input files\n",
    "file1 = \"saida2019.txt\"\n",
    "file2 = \"saida2024.txt\"\n",
    "\n",
    "# Path to the output file\n",
    "merged = \"allTexts.txt\"\n",
    "\n",
    "# Check if the files exist (optional)\n",
    "for f in (file1, file2):\n",
    "    if not os.path.exists(f):\n",
    "        raise FileNotFoundError(f\"File not found: {f}\")\n",
    "\n",
    "# Open the output file in write mode\n",
    "with open(merged, \"w\", encoding=\"utf-8\") as fout:\n",
    "    # Read and write the first file\n",
    "    with open(file1, \"r\", encoding=\"utf-8\") as f1:\n",
    "        fout.write(f1.read())\n",
    "        fout.write(\"\\n\")  # optional: add a line break between files\n",
    "\n",
    "    # Read and write the second file\n",
    "    with open(file2, \"r\", encoding=\"utf-8\") as f2:\n",
    "        fout.write(f2.read())\n",
    "        fout.write(\"\\n\")\n",
    "\n",
    "print(f\"Files '{file1}' and '{file2}' successfully merged into '{merged}'.\")\n"
   ]
  }
 ],
 "metadata": {
  "kernelspec": {
   "display_name": "Python 3",
   "language": "python",
   "name": "python3"
  },
  "language_info": {
   "codemirror_mode": {
    "name": "ipython",
    "version": 3
   },
   "file_extension": ".py",
   "mimetype": "text/x-python",
   "name": "python",
   "nbconvert_exporter": "python",
   "pygments_lexer": "ipython3",
   "version": "3.10.11"
  }
 },
 "nbformat": 4,
 "nbformat_minor": 5
}
